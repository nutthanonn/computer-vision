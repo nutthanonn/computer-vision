{
 "cells": [
  {
   "cell_type": "code",
   "execution_count": 3,
   "id": "799160a8",
   "metadata": {},
   "outputs": [],
   "source": [
    "import pandas as pd\n",
    "import matplotlib.pyplot as plt"
   ]
  },
  {
   "cell_type": "code",
   "execution_count": 9,
   "id": "80bcf895",
   "metadata": {},
   "outputs": [
    {
     "data": {
      "text/html": [
       "<div>\n",
       "<style scoped>\n",
       "    .dataframe tbody tr th:only-of-type {\n",
       "        vertical-align: middle;\n",
       "    }\n",
       "\n",
       "    .dataframe tbody tr th {\n",
       "        vertical-align: top;\n",
       "    }\n",
       "\n",
       "    .dataframe thead th {\n",
       "        text-align: right;\n",
       "    }\n",
       "</style>\n",
       "<table border=\"1\" class=\"dataframe\">\n",
       "  <thead>\n",
       "    <tr style=\"text-align: right;\">\n",
       "      <th></th>\n",
       "      <th>Programming Language</th>\n",
       "      <th>Creator</th>\n",
       "      <th>Year</th>\n",
       "    </tr>\n",
       "  </thead>\n",
       "  <tbody>\n",
       "    <tr>\n",
       "      <th>0</th>\n",
       "      <td>C</td>\n",
       "      <td>Dennis Ritchie</td>\n",
       "      <td>1972</td>\n",
       "    </tr>\n",
       "    <tr>\n",
       "      <th>1</th>\n",
       "      <td>Python</td>\n",
       "      <td>Guido Van Rossum</td>\n",
       "      <td>1989</td>\n",
       "    </tr>\n",
       "    <tr>\n",
       "      <th>2</th>\n",
       "      <td>Ruby</td>\n",
       "      <td>Yukihiro Matsumoto</td>\n",
       "      <td>1995</td>\n",
       "    </tr>\n",
       "  </tbody>\n",
       "</table>\n",
       "</div>"
      ],
      "text/plain": [
       "  Programming Language             Creator  Year\n",
       "0                    C      Dennis Ritchie  1972\n",
       "1               Python    Guido Van Rossum  1989\n",
       "2                 Ruby  Yukihiro Matsumoto  1995"
      ]
     },
     "execution_count": 9,
     "metadata": {},
     "output_type": "execute_result"
    }
   ],
   "source": [
    "web_data=pd.read_html(\"../assets/index.html\")\n",
    "web_data[0]"
   ]
  },
  {
   "cell_type": "code",
   "execution_count": 7,
   "id": "633ce007",
   "metadata": {},
   "outputs": [
    {
     "data": {
      "text/plain": [
       "'<!DOCTYPE html>\\n<html>\\n  <head>\\n    <meta charset=\"utf-8\">\\n    <meta name=\"viewport\" content=\"width=device-width, initial-scale=1.0, maximum-scale=1.0, user-scalable=no\">\\n\\n    <title>Page Not Found</title>\\n    <link href=\\'https://fonts.googleapis.com/css?family=Roboto:400,700&subset=latin,latin-ext\\' rel=\\'stylesheet\\' type=\\'text/css\\'>\\n    <style>\\n    body {\\n      font-family: -apple-system, BlinkMacSystemFont, \"Segoe UI\", Roboto, Helvetica, Arial, sans-serif, \"Apple Color Emoji\", \"Segoe UI Emoji\", \"Segoe UI Symbol\";\\n      background: rgb(52, 56, 60);\\n      color: white;\\n      overflow: hidden;\\n      margin: 0;\\n      padding: 0;\\n    }\\n\\n    h1 {\\n      margin: 0;\\n      font-size: 22px;\\n      line-height: 24px;\\n    }\\n\\n    .main {\\n      position: relative;\\n      display: flex;\\n      flex-direction: column;\\n      align-items: center;\\n      justify-content: center;\\n      height: 100vh;\\n      width: 100vw;\\n    }\\n\\n    .card {\\n      position: relative;\\n      display: flex;\\n      flex-direction: column;\\n      width: 75%;\\n      max-width: 364px;\\n      padding: 24px;\\n      background: white;\\n      color: rgb(14, 30, 37);\\n      border-radius: 8px;\\n      box-shadow: 0 2px 4px 0 rgba(14, 30, 37, .16);\\n    }\\n\\n    a {\\n      margin: 0;\\n      font-weight: 600;\\n      line-height: 24px;\\n      color: #054861;\\n    }\\n\\n    a svg {\\n      position: relative;\\n      top: 2px;\\n    }\\n\\n    a:hover,\\n    a:focus {\\n      text-decoration: none;\\n    }\\n\\n    a:hover svg path{\\n      fill: #007067;\\n    }\\n\\n    p:last-of-type {\\n      margin-bottom: 0;\\n    }\\n\\n    </style>\\n  </head>\\n  <body>\\n    <div class=\"main\">\\n      <div class=\"card\">\\n        <div class=\"header\">\\n          <h1>Page Not Found</h1>\\n        </div>\\n        <div class=\"body\">\\n          <p>Looks like you\\'ve followed a broken link or entered a URL that doesn\\'t exist on this site.</p>\\n          <p>\\n            <a id=\"back-link\" href=\"/\">\\n              <svg xmlns=\"http://www.w3.org/2000/svg\" width=\"16\" height=\"16\" viewBox=\"0 0 16 16\">\\n                <path fill=\"#007067\" d=\"M11.9998836,4.09370803 L8.55809517,7.43294953 C8.23531459,7.74611298 8.23531459,8.25388736 8.55809517,8.56693769 L12,11.9062921 L9.84187871,14 L4.24208544,8.56693751 C3.91930485,8.25388719 3.91930485,7.74611281 4.24208544,7.43294936 L9.84199531,2 L11.9998836,4.09370803 Z\"/>\\n              </svg>\\n              Back to our site\\n             </a>\\n          </p>\\n          <hr><p>If this is your site, and you weren\\'t expecting a 404 for this path, please visit Netlify\\'s <a href=\"https://answers.netlify.com/t/support-guide-i-ve-deployed-my-site-but-i-still-see-page-not-found/125?utm_source=404page&utm_campaign=community_tracking\">\"page not found\" support guide</a> for troubleshooting tips.\\n          </p>\\n        </div>\\n      </div>\\n    </div>\\n    <script>\\n      (function() {\\n        if (document.referrer && document.location.host && document.referrer.match(new RegExp(\"^https?://\" + document.location.host))) {\\n          document.getElementById(\"back-link\").setAttribute(\"href\", document.referrer);\\n        }\\n      })();\\n    </script>\\n  </body>\\n</html>\\n'"
      ]
     },
     "execution_count": 7,
     "metadata": {},
     "output_type": "execute_result"
    }
   ],
   "source": [
    "import requests\n",
    "from bs4 import BeautifulSoup\n",
    "\n",
    "r = requests.get(\"https://nutthanon-personal-website.netlify.app/profile\")\n",
    "r.text"
   ]
  },
  {
   "cell_type": "code",
   "execution_count": 14,
   "id": "84b37cd9",
   "metadata": {},
   "outputs": [
    {
     "data": {
      "text/plain": [
       "<div class=\"main\">\n",
       "<div class=\"card\">\n",
       "<div class=\"header\">\n",
       "<h1>Page Not Found</h1>\n",
       "</div>\n",
       "<div class=\"body\">\n",
       "<p>Looks like you've followed a broken link or entered a URL that doesn't exist on this site.</p>\n",
       "<p>\n",
       "<a href=\"/\" id=\"back-link\">\n",
       "<svg height=\"16\" viewbox=\"0 0 16 16\" width=\"16\" xmlns=\"http://www.w3.org/2000/svg\">\n",
       "<path d=\"M11.9998836,4.09370803 L8.55809517,7.43294953 C8.23531459,7.74611298 8.23531459,8.25388736 8.55809517,8.56693769 L12,11.9062921 L9.84187871,14 L4.24208544,8.56693751 C3.91930485,8.25388719 3.91930485,7.74611281 4.24208544,7.43294936 L9.84199531,2 L11.9998836,4.09370803 Z\" fill=\"#007067\"></path>\n",
       "</svg>\n",
       "              Back to our site\n",
       "             </a>\n",
       "</p>\n",
       "<hr/><p>If this is your site, and you weren't expecting a 404 for this path, please visit Netlify's <a href=\"https://answers.netlify.com/t/support-guide-i-ve-deployed-my-site-but-i-still-see-page-not-found/125?utm_source=404page&amp;utm_campaign=community_tracking\">\"page not found\" support guide</a> for troubleshooting tips.\n",
       "          </p>\n",
       "</div>\n",
       "</div>\n",
       "</div>"
      ]
     },
     "execution_count": 14,
     "metadata": {},
     "output_type": "execute_result"
    }
   ],
   "source": [
    "soup = BeautifulSoup(r.text)\n",
    "tag = soup.find(\"div\")\n",
    "tag"
   ]
  }
 ],
 "metadata": {
  "kernelspec": {
   "display_name": "Python 3.9.5 64-bit",
   "language": "python",
   "name": "python3"
  },
  "language_info": {
   "codemirror_mode": {
    "name": "ipython",
    "version": 3
   },
   "file_extension": ".py",
   "mimetype": "text/x-python",
   "name": "python",
   "nbconvert_exporter": "python",
   "pygments_lexer": "ipython3",
   "version": "3.9.5"
  },
  "vscode": {
   "interpreter": {
    "hash": "aee8b7b246df8f9039afb4144a1f6fd8d2ca17a180786b69acc140d282b71a49"
   }
  }
 },
 "nbformat": 4,
 "nbformat_minor": 5
}
